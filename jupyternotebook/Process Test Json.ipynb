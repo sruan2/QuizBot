{
 "cells": [
  {
   "cell_type": "markdown",
   "metadata": {},
   "source": [
    "### Read JSON"
   ]
  },
  {
   "cell_type": "code",
   "execution_count": 10,
   "metadata": {},
   "outputs": [],
   "source": [
    "import json\n",
    "from pprint import pprint\n",
    "\n",
    "data = json.load(open('../SciQdataset-23/test.json'))\n"
   ]
  },
  {
   "cell_type": "code",
   "execution_count": 6,
   "metadata": {},
   "outputs": [
    {
     "name": "stdout",
     "output_type": "stream",
     "text": [
      "Total Number of Questions are: 1000\n"
     ]
    }
   ],
   "source": [
    "print(\"Total Number of Questions are: %d\" % len(data))"
   ]
  },
  {
   "cell_type": "markdown",
   "metadata": {},
   "source": [
    "### Automatic Suject Classification"
   ]
  },
  {
   "cell_type": "code",
   "execution_count": 25,
   "metadata": {},
   "outputs": [
    {
     "name": "stdout",
     "output_type": "stream",
     "text": [
      "loaded glove\n"
     ]
    }
   ],
   "source": [
    "import pickle\n",
    "\n",
    "pkl = open('/Users/sherryruan/data/glove/glove.6B/glove.6B.300d.pkl', 'rb')\n",
    "glove = pickle.load(pkl)\n",
    "print(\"loaded glove\")\n",
    "\n",
    "def cosine_similarity(v1, v2):\n",
    "    return np.dot(v1, v2) / (np.linalg.norm(v1) * np.linalg.norm(v2))\n",
    "\n",
    "import nltk\n",
    "from nltk import RegexpTokenizer\n",
    "tokenizer = RegexpTokenizer(r'[\\w]+')\n",
    "\n",
    "from nltk.corpus import stopwords\n",
    "stopwords = set(nltk.corpus.stopwords.words('english'))\n",
    "\n",
    "subjects = [\"biology\", \"chemistry\", \"physics\", \"geology\"]\n",
    "subjects_vec = [glove[s] for s in subjects]\n",
    "\n",
    "import numpy as np\n",
    "\n",
    "question_subject = []\n",
    "\n",
    "def subject(line):\n",
    "    tokens = tokenizer.tokenize(line.lower())\n",
    "    filtered_tokens = [t for t in tokens if t not in stopwords]\n",
    "    scores = [0 for i in range(len(subjects))]\n",
    "    for token in filtered_tokens:\n",
    "        for idx, sub_vec in enumerate(subjects_vec):\n",
    "            if token in glove:\n",
    "                score = cosine_similarity(sub_vec, glove[token])\n",
    "                if score > scores[idx]:\n",
    "                    scores[idx] = score\n",
    "    #print(scores)\n",
    "    return (subjects[np.argmax(scores)])"
   ]
  },
  {
   "cell_type": "code",
   "execution_count": 30,
   "metadata": {},
   "outputs": [],
   "source": [
    "labelled_data = []\n",
    "\n",
    "for idx, entry in enumerate(data):\n",
    "    if idx >= 230: # first 230 questions\n",
    "        break\n",
    "    entry[\"subject\"] = subject(entry[\"question\"])\n",
    "    entry[\"correct_answer\"] = [entry[\"correct_answer\"]]\n",
    "    entry[\"difficulyt\"] = 0\n",
    "    labelled_data.append(entry)\n",
    "    "
   ]
  },
  {
   "cell_type": "code",
   "execution_count": 31,
   "metadata": {},
   "outputs": [
    {
     "name": "stdout",
     "output_type": "stream",
     "text": [
      "230\n"
     ]
    }
   ],
   "source": [
    "print(len(labelled_data))"
   ]
  },
  {
   "cell_type": "code",
   "execution_count": 32,
   "metadata": {},
   "outputs": [],
   "source": [
    "with open('../SciQdataset-23/200questions.json', 'w') as outfile:\n",
    "    json.dump(labelled_data, outfile)"
   ]
  },
  {
   "cell_type": "code",
   "execution_count": null,
   "metadata": {},
   "outputs": [],
   "source": []
  }
 ],
 "metadata": {
  "kernelspec": {
   "display_name": "Python 3",
   "language": "python",
   "name": "python3"
  },
  "language_info": {
   "codemirror_mode": {
    "name": "ipython",
    "version": 3
   },
   "file_extension": ".py",
   "mimetype": "text/x-python",
   "name": "python",
   "nbconvert_exporter": "python",
   "pygments_lexer": "ipython3",
   "version": "3.6.3"
  }
 },
 "nbformat": 4,
 "nbformat_minor": 2
}
