{
 "cells": [
  {
   "cell_type": "code",
   "execution_count": 3,
   "metadata": {},
   "outputs": [
    {
     "name": "stdout",
     "output_type": "stream",
     "text": [
      "13679\n"
     ]
    }
   ],
   "source": [
    "questions = []\n",
    "with open(\"../SciQdataset-23/question_file_2.txt\", \"r\") as f:\n",
    "    for q in f:\n",
    "        questions.append(q)\n",
    "\n",
    "print(len(questions))"
   ]
  },
  {
   "cell_type": "code",
   "execution_count": 4,
   "metadata": {},
   "outputs": [
    {
     "name": "stdout",
     "output_type": "stream",
     "text": [
      "13679\n"
     ]
    }
   ],
   "source": [
    "answers = []\n",
    "with open(\"../SciQdataset-23/correct_answer_file_2.txt\", \"r\") as g:\n",
    "    for a in g:\n",
    "        answers.append(a)\n",
    "\n",
    "print(len(answers))"
   ]
  },
  {
   "cell_type": "code",
   "execution_count": 5,
   "metadata": {},
   "outputs": [],
   "source": [
    "assert(len(questions) == len(answers))"
   ]
  },
  {
   "cell_type": "code",
   "execution_count": 7,
   "metadata": {},
   "outputs": [],
   "source": [
    "with open(\"../SciQdataset-23/cheat_sheet.txt\", \"w\") as f:\n",
    "    for i in range(len(questions)):\n",
    "        f.write(questions[i])\n",
    "        f.write(answers[i])\n",
    "        f.write(\"----------------------\\n\")"
   ]
  },
  {
   "cell_type": "code",
   "execution_count": null,
   "metadata": {},
   "outputs": [],
   "source": []
  }
 ],
 "metadata": {
  "kernelspec": {
   "display_name": "Python 3",
   "language": "python",
   "name": "python3"
  },
  "language_info": {
   "codemirror_mode": {
    "name": "ipython",
    "version": 3
   },
   "file_extension": ".py",
   "mimetype": "text/x-python",
   "name": "python",
   "nbconvert_exporter": "python",
   "pygments_lexer": "ipython3",
   "version": "3.6.3"
  }
 },
 "nbformat": 4,
 "nbformat_minor": 2
}
