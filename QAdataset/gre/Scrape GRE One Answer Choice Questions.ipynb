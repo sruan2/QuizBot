{
 "cells": [
  {
   "cell_type": "code",
   "execution_count": 1,
   "metadata": {},
   "outputs": [],
   "source": [
    "from lxml import html\n",
    "import requests\n",
    "import json\n",
    "from vocabulary.vocabulary import Vocabulary as vb\n",
    "from PyDictionary import PyDictionary\n",
    "\n",
    "# Compress warnings\n",
    "import sys\n",
    "import warnings\n",
    "if not sys.warnoptions:\n",
    "    warnings.simplefilter(\"ignore\")"
   ]
  },
  {
   "cell_type": "code",
   "execution_count": 3,
   "metadata": {},
   "outputs": [
    {
     "data": {
      "text/plain": [
       "'[{\"seq\": 0, \"text\": \"motor\"}, {\"seq\": 1, \"text\": \"automotive\"}, {\"seq\": 2, \"text\": \"cart\"}]'"
      ]
     },
     "execution_count": 3,
     "metadata": {},
     "output_type": "execute_result"
    }
   ],
   "source": [
    "vb.synonym(\"car\")  # return False if vb api is broken"
   ]
  },
  {
   "cell_type": "code",
   "execution_count": 4,
   "metadata": {},
   "outputs": [],
   "source": [
    "def convert_to_str(m):\n",
    "    if 'Adjective' in m:\n",
    "        to_return = m['Adjective'][0]\n",
    "    elif 'Verb' in m:\n",
    "        to_return = m['Verb'][0]\n",
    "    elif 'Noun' in m:\n",
    "        to_return = m['Noun'][0]\n",
    "    else:\n",
    "        to_return = m[list(m.keys())[0]][0]\n",
    "        \n",
    "    return to_return"
   ]
  },
  {
   "cell_type": "code",
   "execution_count": 5,
   "metadata": {},
   "outputs": [
    {
     "name": "stdout",
     "output_type": "stream",
     "text": [
      "in a joyous manner\n"
     ]
    },
    {
     "ename": "NameError",
     "evalue": "name 's' is not defined",
     "output_type": "error",
     "traceback": [
      "\u001b[0;31m---------------------------------------------------------------------------\u001b[0m",
      "\u001b[0;31mNameError\u001b[0m                                 Traceback (most recent call last)",
      "\u001b[0;32m<ipython-input-5-2a48de47834a>\u001b[0m in \u001b[0;36m<module>\u001b[0;34m()\u001b[0m\n\u001b[1;32m      4\u001b[0m \u001b[0;31m#print(m)\u001b[0m\u001b[0;34m\u001b[0m\u001b[0;34m\u001b[0m\u001b[0m\n\u001b[1;32m      5\u001b[0m \u001b[0mprint\u001b[0m\u001b[0;34m(\u001b[0m\u001b[0mconvert_to_str\u001b[0m\u001b[0;34m(\u001b[0m\u001b[0mm\u001b[0m\u001b[0;34m)\u001b[0m\u001b[0;34m)\u001b[0m\u001b[0;34m\u001b[0m\u001b[0m\n\u001b[0;32m----> 6\u001b[0;31m \u001b[0;32mif\u001b[0m \u001b[0;32mnot\u001b[0m \u001b[0ms\u001b[0m\u001b[0;34m:\u001b[0m\u001b[0;34m\u001b[0m\u001b[0m\n\u001b[0m\u001b[1;32m      7\u001b[0m     \u001b[0mprint\u001b[0m\u001b[0;34m(\u001b[0m\u001b[0;34m\"exception\"\u001b[0m\u001b[0;34m)\u001b[0m\u001b[0;34m\u001b[0m\u001b[0m\n",
      "\u001b[0;31mNameError\u001b[0m: name 's' is not defined"
     ]
    }
   ],
   "source": [
    "dictionary = PyDictionary()\n",
    "\n",
    "m = dictionary.meaning(\"happily\")\n",
    "#print(m)\n",
    "print(convert_to_str(m))\n",
    "if not s:\n",
    "    print(\"exception\")"
   ]
  },
  {
   "cell_type": "code",
   "execution_count": null,
   "metadata": {},
   "outputs": [],
   "source": [
    "# def first_lower(s):\n",
    "#    if len(s) == 0:\n",
    "#       return s\n",
    "#    else:\n",
    "#       return s[0].lower() + s[1:]"
   ]
  },
  {
   "cell_type": "code",
   "execution_count": 6,
   "metadata": {},
   "outputs": [],
   "source": [
    "urls = ['http://gre.kmf.com/practise/exercise/553/152736570620606599/0/0/0/0/0/0',\n",
    "        'http://gre.kmf.com/practise/exercise/553/152736570620606599/5ekxgk/0/0/0/0/0',\n",
    "        'http://gre.kmf.com/practise/exercise/553/152736570620606599/a9kxhk/0/0/0/0/0',\n",
    "        'http://gre.kmf.com/practise/exercise/553/152736570620606599/55kxik/0/0/0/0/0',\n",
    "        'http://gre.kmf.com/practise/exercise/553/152736570620606599/48kxjk/0/0/0/0/0',\n",
    "        'http://gre.kmf.com/practise/exercise/553/152736570620606599/d0kxkk/0/0/0/0/0',\n",
    "        'http://gre.kmf.com/practise/exercise/553/152736570620606599/9fl06k/0/0/0/0/0',\n",
    "        'http://gre.kmf.com/practise/exercise/553/152736570620606599/cfl0xk/0/0/0/0/0',\n",
    "        'http://gre.kmf.com/practise/exercise/553/152736570620606599/46l0zk/0/0/0/0/0',\n",
    "        'http://gre.kmf.com/practise/exercise/553/152736570620606599/dfl19k/0/0/0/0/0',\n",
    "        'http://gre.kmf.com/practise/exercise/553/152736570620606599/77l1ck/0/0/0/0/0',\n",
    "        'http://gre.kmf.com/practise/exercise/553/152736570620606599/bdl1zk/0/0/0/0/0',\n",
    "        'http://gre.kmf.com/practise/exercise/553/152736570620606599/8bl23k/0/0/0/0/0',\n",
    "        'http://gre.kmf.com/practise/exercise/44/152736637597563714/0/0/0/0/0/0',\n",
    "        'http://gre.kmf.com/practise/exercise/44/152736637597563714/3ck3ik/0/0/0/0/0',\n",
    "        'http://gre.kmf.com/practise/exercise/44/152736637597563714/3bk3mk/0/0/0/0/0',\n",
    "        'http://gre.kmf.com/practise/exercise/44/152736637597563714/e4k3nk/0/0/0/0/0',\n",
    "        'http://gre.kmf.com/practise/exercise/44/152736637597563714/31k3ok/0/0/0/0/0',\n",
    "        'http://gre.kmf.com/practise/exercise/44/152736637597563714/f2k3qk/0/0/0/0/0',\n",
    "        'http://gre.kmf.com/practise/exercise/44/152736637597563714/91k3rk/0/0/0/0/0',\n",
    "        'http://gre.kmf.com/practise/exercise/44/152736637597563714/9fk3uk/0/0/0/0/0',\n",
    "        'http://gre.kmf.com/practise/exercise/44/152736637597563714/8ak3vk/0/0/0/0/0',\n",
    "        'http://gre.kmf.com/practise/exercise/44/152736637597563714/6fk3wk/0/0/0/0/0',\n",
    "        'http://gre.kmf.com/practise/exercise/43/152736649475139095/0/0/0/0/0/0',\n",
    "        'http://gre.kmf.com/practise/exercise/43/152736649475139095/92k2fk/0/0/0/0/0',\n",
    "        'http://gre.kmf.com/practise/exercise/43/152736649475139095/a6k2hk/0/0/0/0/0',\n",
    "        'http://gre.kmf.com/practise/exercise/43/152736649475139095/f8k2kk/0/0/0/0/0',\n",
    "        'http://gre.kmf.com/practise/exercise/43/152736649475139095/5ck2mk/0/0/0/0/0',\n",
    "        'http://gre.kmf.com/practise/exercise/43/152736649475139095/69k2nk/0/0/0/0/0',\n",
    "        'http://gre.kmf.com/practise/exercise/43/152736649475139095/f0k2pk/0/0/0/0/0',\n",
    "        'http://gre.kmf.com/practise/exercise/43/152736649475139095/eek2tk/0/0/0/0/0',\n",
    "        'http://gre.kmf.com/practise/exercise/43/152736649475139095/cbk2vk/0/0/0/0/0',\n",
    "        'http://gre.kmf.com/practise/exercise/43/152736649475139095/0ck2xk/0/0/0/0/0',\n",
    "        'http://gre.kmf.com/practise/exercise/43/152736649475139095/28k2zk/0/0/0/0/0',\n",
    "        'http://gre.kmf.com/practise/exercise/43/152736649475139095/26k30k/0/0/0/0/0',\n",
    "        'http://gre.kmf.com/practise/exercise/43/152736649475139095/2ek32k/0/0/0/0/0',\n",
    "        'http://gre.kmf.com/practise/exercise/43/152736649475139095/9bk33k/0/0/0/0/0',\n",
    "        'http://gre.kmf.com/practise/exercise/43/152736649475139095/f9k34k/0/0/0/0/0',\n",
    "        'http://gre.kmf.com/practise/exercise/43/152736649475139095/67k37k/0/0/0/0/0',\n",
    "        'http://gre.kmf.com/practise/exercise/43/152736649475139095/70k38k/0/0/0/0/0',\n",
    "        'http://gre.kmf.com/practise/exercise/43/152736649475139095/5ak3ak/0/0/0/0/0',\n",
    "        'http://gre.kmf.com/practise/exercise/43/152736649475139095/f7k3bk/0/0/0/0/0',\n",
    "        'http://gre.kmf.com/practise/exercise/43/152736649475139095/a4k3dk/0/0/0/0/0',\n",
    "        'http://gre.kmf.com/practise/exercise/41/152736672650466929/0/0/0/0/0/0',\n",
    "        'http://gre.kmf.com/practise/exercise/41/152736672650466929/75k17k/0/0/0/0/0',\n",
    "        'http://gre.kmf.com/practise/exercise/41/152736672650466929/07k19k/0/0/0/0/0',\n",
    "        'http://gre.kmf.com/practise/exercise/41/152736672650466929/29k1bk/0/0/0/0/0',\n",
    "        'http://gre.kmf.com/practise/exercise/41/152736672650466929/aak1ck/0/0/0/0/0',\n",
    "        'http://gre.kmf.com/practise/exercise/41/152736672650466929/0ek1dk/0/0/0/0/0',\n",
    "        'http://gre.kmf.com/practise/exercise/41/152736672650466929/b6k1hk/0/0/0/0/0'\n",
    "       ]"
   ]
  },
  {
   "cell_type": "code",
   "execution_count": 7,
   "metadata": {},
   "outputs": [],
   "source": [
    "gre_data = []\n",
    "gre_filtered_file = './gre_data_50.json'"
   ]
  },
  {
   "cell_type": "code",
   "execution_count": 8,
   "metadata": {},
   "outputs": [
    {
     "name": "stdout",
     "output_type": "stream",
     "text": [
      "Error: A Term must be only a single word\n",
      "persist cut: not found\n",
      "\n",
      "Error: The Following Error occured: list index out of range\n",
      "forseeability: not found\n",
      "\n",
      "Error: A Term must be only a single word\n",
      "pond rat ing: not found\n",
      "\n",
      "Error: The Following Error occured: list index out of range\n",
      "multi-faceted: not found\n",
      "\n",
      "Error: A Term must be only a single word\n",
      "a dilettante: not found\n",
      "\n",
      "Error: A Term must be only a single word\n",
      "a philanderer: not found\n",
      "\n",
      "Error: A Term must be only a single word\n",
      "a mentor: not found\n",
      "\n",
      "Error: A Term must be only a single word\n",
      "a specialist: not found\n",
      "\n",
      "Error: A Term must be only a single word\n",
      "an eccentric: not found\n",
      "\n"
     ]
    }
   ],
   "source": [
    "for url in urls:\n",
    "    page = requests.get(url)\n",
    "    tree = html.fromstring(page.content)\n",
    "    \n",
    "    question = tree.xpath('//p[@class=\"sub-text\"]/text()')\n",
    "    choices_id = tree.xpath(\"//dd/@ans-id\")\n",
    "    choices = tree.xpath(\"//dd[@ans-id]/text()\")\n",
    "    correct = tree.xpath('//input[@id=\"js-right-answer\"]/@value')[0]\n",
    "    \n",
    "    correct = correct[2:-2]\n",
    "    question = question[0]\n",
    "    correct_answer = choices[choices_id.index(correct)]\n",
    "    distractor = [i for i in choices if i != correct_answer]\n",
    "    \n",
    "    m = dictionary.meaning(correct_answer)\n",
    "    if m:\n",
    "        support = correct_answer.capitalize() + \": \" + convert_to_str(m)\n",
    "    else:\n",
    "        print(correct_answer + \": not found\\n\")\n",
    "    \n",
    "    for idx, d in enumerate(distractor):\n",
    "        if d == 'maladj usted':\n",
    "            distractor[idx] = 'maladjusted'\n",
    "            d = distractor[idx]\n",
    "            \n",
    "        m = dictionary.meaning(d)\n",
    "        if m:\n",
    "            support += \"\\n\" + d.capitalize() + \": \" + convert_to_str(m)\n",
    "        else:\n",
    "            print(d + \": not found\\n\")\n",
    "            \n",
    "#     print(question)\n",
    "#     print(correct_answer)\n",
    "#     print(distractor)\n",
    "#     print(support)\n",
    "#     print()\n",
    "    \n",
    "    one_qa = {'question': question,\n",
    "              'correct_answer': correct_answer,\n",
    "              'distractor': distractor,\n",
    "              'support': support,\n",
    "              'url': url,\n",
    "              'subject': 'gre'}\n",
    "    \n",
    "    gre_data.append(one_qa)"
   ]
  },
  {
   "cell_type": "code",
   "execution_count": 9,
   "metadata": {},
   "outputs": [
    {
     "name": "stdout",
     "output_type": "stream",
     "text": [
      "50\n"
     ]
    }
   ],
   "source": [
    "print(len(gre_data))"
   ]
  },
  {
   "cell_type": "code",
   "execution_count": 10,
   "metadata": {},
   "outputs": [],
   "source": [
    "with open(gre_filtered_file, 'w') as f:\n",
    "    json.dump(gre_data, f)"
   ]
  },
  {
   "cell_type": "code",
   "execution_count": null,
   "metadata": {},
   "outputs": [],
   "source": []
  },
  {
   "cell_type": "code",
   "execution_count": null,
   "metadata": {},
   "outputs": [],
   "source": []
  }
 ],
 "metadata": {
  "kernelspec": {
   "display_name": "Python 3",
   "language": "python",
   "name": "python3"
  },
  "language_info": {
   "codemirror_mode": {
    "name": "ipython",
    "version": 3
   },
   "file_extension": ".py",
   "mimetype": "text/x-python",
   "name": "python",
   "nbconvert_exporter": "python",
   "pygments_lexer": "ipython3",
   "version": "3.6.3"
  }
 },
 "nbformat": 4,
 "nbformat_minor": 1
}
